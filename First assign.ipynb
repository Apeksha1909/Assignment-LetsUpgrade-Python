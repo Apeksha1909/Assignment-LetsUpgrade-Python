{
 "cells": [
  {
   "cell_type": "code",
   "execution_count": 34,
   "metadata": {},
   "outputs": [
    {
     "name": "stdout",
     "output_type": "stream",
     "text": [
      "98\n",
      "0.4166666666666667\n",
      "2.4\n"
     ]
    }
   ],
   "source": [
    "x=5\n",
    "y=(2*x+5)/(x^2+5*x+6)\n",
    "z=(x^2+5*x+6)/(2*x+5)\n",
    "yz=((2*x)-3)*(x+9)\n",
    "print(yz)\n",
    "print(y)\n",
    "print(z)"
   ]
  },
  {
   "cell_type": "code",
   "execution_count": 30,
   "metadata": {},
   "outputs": [
    {
     "name": "stdout",
     "output_type": "stream",
     "text": [
      "Welcome\n",
      "Login\n",
      "Enter username: Apeksha\n",
      "Enter password: Apeksha@123\n",
      "Logged In Successfully\n"
     ]
    }
   ],
   "source": [
    "print(\"Welcome\")\n",
    "i=0\n",
    "print(\"Login\")\n",
    "username='Apeksha'\n",
    "password='Apeksha@123'\n",
    "getuser=input(\"Enter username: \")\n",
    "getpasskey=input(\"Enter password: \")\n",
    "if username==getuser:\n",
    "  if password==getpasskey:\n",
    "    print(\"Logged In Successfully\")\n",
    "  else:\n",
    "    print(\"Invalid password try again\")\n",
    "    while i<4:\n",
    "      getpasskey=input(\"Enter password: \")\n",
    "      if password==getpasskey:\n",
    "        print(\"Logged In Successfully\")\n",
    "        break\n",
    "      else:\n",
    "        print(\"Incorrect password!!Try again\")\n",
    "        i=i+1\n",
    "    else:\n",
    "      print(\"You have attempted to max limit Try again after 24 hrs\")\n",
    "else:\n",
    "  print(\"Invalid username or password\")"
   ]
  },
  {
   "cell_type": "code",
   "execution_count": null,
   "metadata": {},
   "outputs": [],
   "source": []
  }
 ],
 "metadata": {
  "kernelspec": {
   "display_name": "Python 3",
   "language": "python",
   "name": "python3"
  },
  "language_info": {
   "codemirror_mode": {
    "name": "ipython",
    "version": 3
   },
   "file_extension": ".py",
   "mimetype": "text/x-python",
   "name": "python",
   "nbconvert_exporter": "python",
   "pygments_lexer": "ipython3",
   "version": "3.8.5"
  }
 },
 "nbformat": 4,
 "nbformat_minor": 4
}
