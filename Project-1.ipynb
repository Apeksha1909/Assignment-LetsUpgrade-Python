{
 "cells": [
  {
   "cell_type": "markdown",
   "metadata": {},
   "source": [
    "# Cryptography App"
   ]
  },
  {
   "cell_type": "code",
   "execution_count": 8,
   "metadata": {},
   "outputs": [
    {
     "name": "stdout",
     "output_type": "stream",
     "text": [
      "Collecting onetimepad\n",
      "  Downloading onetimepad-1.4.tar.gz (3.3 kB)\n",
      "Building wheels for collected packages: onetimepad\n",
      "  Building wheel for onetimepad (setup.py): started\n",
      "  Building wheel for onetimepad (setup.py): finished with status 'done'\n",
      "  Created wheel for onetimepad: filename=onetimepad-1.4-py3-none-any.whl size=3904 sha256=64e60d22b73fc65a2b5948d8d5f81e251edf57f555763b9ad442177f7d5618c7\n",
      "  Stored in directory: c:\\users\\hp\\appdata\\local\\pip\\cache\\wheels\\64\\1b\\26\\414127c44690b5adf2378ea1912fd1465cb89695669125909c\n",
      "Successfully built onetimepad\n",
      "Installing collected packages: onetimepad\n",
      "Successfully installed onetimepad-1.4\n"
     ]
    }
   ],
   "source": [
    "!pip install onetimepad"
   ]
  },
  {
   "cell_type": "code",
   "execution_count": 11,
   "metadata": {},
   "outputs": [],
   "source": [
    "import onetimepad"
   ]
  },
  {
   "cell_type": "code",
   "execution_count": 27,
   "metadata": {},
   "outputs": [],
   "source": [
    "from tkinter import *\n",
    "\n",
    "root = Tk()\n",
    "root.title(\"Cryptography App\")\n",
    "\n",
    "def encrptMessage():\n",
    "    a=var.get()\n",
    "    ct=onetimepad.encrypt(a,\"Random\")\n",
    "    print(\"Working\",ct)\n",
    "    \n",
    "    e2.delete(0,END)\n",
    "    e2.insert(END,ct)\n",
    "    \n",
    "\n",
    "def decrptMessage():\n",
    "    a=var3.get()\n",
    "    ct=onetimepad.decrypt(a,\"Random\")\n",
    "    print(\"Working\",ct)\n",
    "    \n",
    "    e4.delete(0,END)\n",
    "    e4.insert(END,ct)\n",
    "    \n",
    "l1 = Label(root,text=\"Plain Text\")\n",
    "l1.grid(row=1,column=0)\n",
    "\n",
    "l5 = Label(root,text=\"Welcome\",fg=\"Green\")\n",
    "l5.grid(row=0,column=0)\n",
    "\n",
    "\n",
    "l3 = Label(root,text=\"Encrypted Text\")\n",
    "l3.grid(row=1,column=2)\n",
    "\n",
    "var=StringVar()\n",
    "e1=Entry(root,textvariable=var)\n",
    "e1.grid(row=1,column=1)\n",
    "\n",
    "var3=StringVar()\n",
    "e3=Entry(root,textvariable=var3)\n",
    "e3.grid(row=1,column=3)\n",
    "\n",
    "\n",
    "l2 = Label(root,text=\"Encrypted Text\")\n",
    "l2.grid(row=2,column=0)\n",
    "\n",
    "l4 = Label(root,text=\"Plain Text\")\n",
    "l4.grid(row=2,column=2)\n",
    "\n",
    "\n",
    "e2=Entry(root)\n",
    "e2.grid(row=2,column=1)\n",
    "\n",
    "e4=Entry(root)\n",
    "e4.grid(row=2,column=3)\n",
    "\n",
    "\n",
    "b1=Button(root,text=\"Encryption\",bg=\"Black\",fg=\"Red\",command=encrptMessage)\n",
    "b1.grid(row=5,column=1)\n",
    "\n",
    "b2=Button(root,text=\"Decryption\",bg=\"Black\",fg=\"Red\",command=decrptMessage)\n",
    "b2.grid(row=5,column=3)\n",
    "\n",
    "\n",
    "root.mainloop()"
   ]
  },
  {
   "cell_type": "code",
   "execution_count": null,
   "metadata": {},
   "outputs": [],
   "source": []
  },
  {
   "cell_type": "code",
   "execution_count": null,
   "metadata": {},
   "outputs": [],
   "source": []
  }
 ],
 "metadata": {
  "kernelspec": {
   "display_name": "Python 3",
   "language": "python",
   "name": "python3"
  },
  "language_info": {
   "codemirror_mode": {
    "name": "ipython",
    "version": 3
   },
   "file_extension": ".py",
   "mimetype": "text/x-python",
   "name": "python",
   "nbconvert_exporter": "python",
   "pygments_lexer": "ipython3",
   "version": "3.8.5"
  }
 },
 "nbformat": 4,
 "nbformat_minor": 4
}
